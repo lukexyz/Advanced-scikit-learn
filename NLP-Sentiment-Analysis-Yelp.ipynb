{
 "cells": [
  {
   "cell_type": "code",
   "execution_count": 1,
   "metadata": {},
   "outputs": [],
   "source": [
    "import numpy as np\n",
    "import pandas as pd\n",
    "import matplotlib.pyplot as plt\n",
    "import warnings\n",
    "warnings.filterwarnings('ignore')\n",
    "\n",
    "from fastai.tabular import *\n",
    "from fastai.text import *\n",
    "\n",
    "%reload_ext autoreload\n",
    "%autoreload 2\n",
    "%matplotlib inline"
   ]
  },
  {
   "cell_type": "markdown",
   "metadata": {},
   "source": [
    "# Data Science Task\n",
    "1. Build a ML model which can predict the `sentiment`\n",
    "2. Apply the model to a single restuarant, to reveal key aspects which drive overall customer `perception`\n",
    "3. Anything else you think might be interesting!"
   ]
  },
  {
   "cell_type": "code",
   "execution_count": 15,
   "metadata": {},
   "outputs": [],
   "source": [
    "path = untar_data(URLs.YELP_REVIEWS)\n",
    "df_train = pd.read_csv(path/'train.csv', header=None, names=['rating', 'text']).sample(frac=0.01, random_state=1)\n",
    "df_test = pd.read_csv(path/'test.csv', header=None, names=['rating', 'text']).sample(frac=0.01, random_state=1)"
   ]
  },
  {
   "cell_type": "markdown",
   "metadata": {},
   "source": [
    "Taking small sample set for fast development"
   ]
  },
  {
   "cell_type": "code",
   "execution_count": 16,
   "metadata": {
    "scrolled": true
   },
   "outputs": [
    {
     "name": "stdout",
     "output_type": "stream",
     "text": [
      "(6500, 2) (500, 2)\n"
     ]
    },
    {
     "data": {
      "text/html": [
       "<div>\n",
       "<style scoped>\n",
       "    .dataframe tbody tr th:only-of-type {\n",
       "        vertical-align: middle;\n",
       "    }\n",
       "\n",
       "    .dataframe tbody tr th {\n",
       "        vertical-align: top;\n",
       "    }\n",
       "\n",
       "    .dataframe thead th {\n",
       "        text-align: right;\n",
       "    }\n",
       "</style>\n",
       "<table border=\"1\" class=\"dataframe\">\n",
       "  <thead>\n",
       "    <tr style=\"text-align: right;\">\n",
       "      <th></th>\n",
       "      <th>rating</th>\n",
       "      <th>text</th>\n",
       "    </tr>\n",
       "  </thead>\n",
       "  <tbody>\n",
       "    <tr>\n",
       "      <th>21194</th>\n",
       "      <td>1</td>\n",
       "      <td>Thank you for all the emails you sent me on my...</td>\n",
       "    </tr>\n",
       "    <tr>\n",
       "      <th>373117</th>\n",
       "      <td>4</td>\n",
       "      <td>I, myself, and vietnamese and have tried all d...</td>\n",
       "    </tr>\n",
       "    <tr>\n",
       "      <th>470627</th>\n",
       "      <td>3</td>\n",
       "      <td>3.5 stars.\\n\\nI have had BFG on my list of \\\"m...</td>\n",
       "    </tr>\n",
       "    <tr>\n",
       "      <th>256672</th>\n",
       "      <td>3</td>\n",
       "      <td>Edamame with truffle salt was great; really li...</td>\n",
       "    </tr>\n",
       "    <tr>\n",
       "      <th>465495</th>\n",
       "      <td>4</td>\n",
       "      <td>So I'm running  errands before I go back to th...</td>\n",
       "    </tr>\n",
       "  </tbody>\n",
       "</table>\n",
       "</div>"
      ],
      "text/plain": [
       "        rating                                               text\n",
       "21194        1  Thank you for all the emails you sent me on my...\n",
       "373117       4  I, myself, and vietnamese and have tried all d...\n",
       "470627       3  3.5 stars.\\n\\nI have had BFG on my list of \\\"m...\n",
       "256672       3  Edamame with truffle salt was great; really li...\n",
       "465495       4  So I'm running  errands before I go back to th..."
      ]
     },
     "execution_count": 16,
     "metadata": {},
     "output_type": "execute_result"
    }
   ],
   "source": [
    "print(df_train.shape, df_test.shape)\n",
    "df_train.head()"
   ]
  },
  {
   "cell_type": "code",
   "execution_count": 17,
   "metadata": {},
   "outputs": [
    {
     "data": {
      "text/plain": [
       "'Thank you for all the emails you sent me on my review! I was surprised at how many responses I recieved from people searching for the right dentist..\\\\nI shared my new dentist information and even got some movie tickets from my dentist for the referrals!\\\\nI find it funny how since I wrote this review how many people have reviewed with 5 stars... They must have a lot of friends and family! \\\\nI hope everyone reads my review and picks the right dentist for your needs!\\\\nHappy Holidays'"
      ]
     },
     "execution_count": 17,
     "metadata": {},
     "output_type": "execute_result"
    }
   ],
   "source": [
    "# First review\n",
    "df_train['text'][21194][:500]"
   ]
  },
  {
   "cell_type": "code",
   "execution_count": 18,
   "metadata": {},
   "outputs": [
    {
     "data": {
      "text/html": [
       "<div>\n",
       "<style scoped>\n",
       "    .dataframe tbody tr th:only-of-type {\n",
       "        vertical-align: middle;\n",
       "    }\n",
       "\n",
       "    .dataframe tbody tr th {\n",
       "        vertical-align: top;\n",
       "    }\n",
       "\n",
       "    .dataframe thead th {\n",
       "        text-align: right;\n",
       "    }\n",
       "</style>\n",
       "<table border=\"1\" class=\"dataframe\">\n",
       "  <thead>\n",
       "    <tr style=\"text-align: right;\">\n",
       "      <th></th>\n",
       "      <th>text</th>\n",
       "    </tr>\n",
       "    <tr>\n",
       "      <th>rating</th>\n",
       "      <th></th>\n",
       "    </tr>\n",
       "  </thead>\n",
       "  <tbody>\n",
       "    <tr>\n",
       "      <th>1</th>\n",
       "      <td>Thank you for all the emails you sent me on my...</td>\n",
       "    </tr>\n",
       "    <tr>\n",
       "      <th>4</th>\n",
       "      <td>I, myself, and vietnamese and have tried all d...</td>\n",
       "    </tr>\n",
       "    <tr>\n",
       "      <th>3</th>\n",
       "      <td>3.5 stars.\\n\\nI have had BFG on my list of \\\"m...</td>\n",
       "    </tr>\n",
       "    <tr>\n",
       "      <th>3</th>\n",
       "      <td>Edamame with truffle salt was great; really li...</td>\n",
       "    </tr>\n",
       "    <tr>\n",
       "      <th>4</th>\n",
       "      <td>So I'm running  errands before I go back to th...</td>\n",
       "    </tr>\n",
       "  </tbody>\n",
       "</table>\n",
       "</div>"
      ],
      "text/plain": [
       "                                                     text\n",
       "rating                                                   \n",
       "1       Thank you for all the emails you sent me on my...\n",
       "4       I, myself, and vietnamese and have tried all d...\n",
       "3       3.5 stars.\\n\\nI have had BFG on my list of \\\"m...\n",
       "3       Edamame with truffle salt was great; really li...\n",
       "4       So I'm running  errands before I go back to th..."
      ]
     },
     "execution_count": 18,
     "metadata": {},
     "output_type": "execute_result"
    }
   ],
   "source": [
    "# Flip columns for databunch processor\n",
    "df_train = df_train[['text', 'rating']].set_index('rating')\n",
    "df_test = df_test[['text', 'rating']].set_index('rating')\n",
    "df_train.head()"
   ]
  },
  {
   "cell_type": "code",
   "execution_count": 19,
   "metadata": {},
   "outputs": [],
   "source": [
    "df_train.to_csv(path / 'train_df_sample.csv')\n",
    "df_test.to_csv(path / 'test_df_sample.csv')"
   ]
  },
  {
   "cell_type": "markdown",
   "metadata": {},
   "source": [
    "### Tokenization\n",
    "The first step of processing we make the texts go through is to split the raw sentences into words, or `tokens`."
   ]
  },
  {
   "cell_type": "code",
   "execution_count": 20,
   "metadata": {},
   "outputs": [
    {
     "data": {
      "text/html": [],
      "text/plain": [
       "<IPython.core.display.HTML object>"
      ]
     },
     "metadata": {},
     "output_type": "display_data"
    },
    {
     "data": {
      "text/html": [],
      "text/plain": [
       "<IPython.core.display.HTML object>"
      ]
     },
     "metadata": {},
     "output_type": "display_data"
    },
    {
     "data": {
      "text/html": [
       "<table border=\"1\" class=\"dataframe\">\n",
       "  <thead>\n",
       "    <tr style=\"text-align: right;\">\n",
       "      <th>text</th>\n",
       "      <th>target</th>\n",
       "    </tr>\n",
       "  </thead>\n",
       "  <tbody>\n",
       "    <tr>\n",
       "      <td>xxbos xxmaj dear xxmaj pastavino , xxmaj chef xxmaj marc , and staff : \\n  xxmaj why did you screw me ? i walked out of your restaurant feeling dirty , ashamed , and ultimately screwed . \\n  5-star reviews left and right , family members telling me it is impeccable , xxunk - xxunk of a chef painting a picture of a truly delicious xxmaj italian meal</td>\n",
       "      <td>2</td>\n",
       "    </tr>\n",
       "    <tr>\n",
       "      <td>xxbos 3 or 4 ... 3 or 4 .. 3 or 4 .. xxup xxunk ! xxmaj darn this thing for not having xxunk . i knew this would be tough the minute i left this place . \\n \\n  i find myself in food xxunk very often . i know that if i want xxmaj mexican food i can go to \" insert location here \" and leave</td>\n",
       "      <td>3</td>\n",
       "    </tr>\n",
       "    <tr>\n",
       "      <td>xxbos xxmaj this place deserves a 2-star for the following reasons : xxup rude , xxup unprofessional and xxup mediocre drinks . xxmaj most of the time we would 've taken our money else where but hey , we drove all the way here , so we might as well just get our drinks and because the place itself might be worth it . \\n \\n  xxmaj the place</td>\n",
       "      <td>2</td>\n",
       "    </tr>\n",
       "    <tr>\n",
       "      <td>xxbos xxmaj let me preface the following review by saying that if i did n't absolutely have a terrible experience , i would n't have said anything . xxmaj this review is also concerning their window xxup only . i really wanted to go to their restaurant the next time we go to xxmaj new xxmaj york , but if this window is a representation of xxmaj serendipity 3 's</td>\n",
       "      <td>1</td>\n",
       "    </tr>\n",
       "    <tr>\n",
       "      <td>xxbos xxmaj terrible . xxmaj food and service . \\n \\n  i have been to just about every strip steak place and this is hands down my least favorite . xxmaj and not just by a little bit , by a rather large margin . i love steak and i love xxmaj french so this should have been a match made in heaven , perhaps how much i looked</td>\n",
       "      <td>1</td>\n",
       "    </tr>\n",
       "  </tbody>\n",
       "</table>"
      ],
      "text/plain": [
       "<IPython.core.display.HTML object>"
      ]
     },
     "metadata": {},
     "output_type": "display_data"
    }
   ],
   "source": [
    "data = TextClasDataBunch.from_csv(path, 'train_df_sample.csv')\n",
    "data.show_batch()"
   ]
  },
  {
   "cell_type": "markdown",
   "metadata": {},
   "source": [
    "* The \"'s\" are grouped together in one token\n",
    "* The contractions are separated like this: \"did\", \"n't\"\n",
    "* Content has been cleaned for any HTML symbol and lower cased\n",
    "* There are several special tokens (all those that begin by xx), to replace unknown tokens (see below) or to introduce different text fields (here we only have one)."
   ]
  },
  {
   "cell_type": "markdown",
   "metadata": {},
   "source": [
    "### Numericalization into `vocab`\n",
    "\n",
    "* Creating unique tokens for all the words\n",
    "* Top 60,000 used - unknown token `xxunk` used for remainders"
   ]
  },
  {
   "cell_type": "code",
   "execution_count": 21,
   "metadata": {},
   "outputs": [
    {
     "data": {
      "text/plain": [
       "['xxunk',\n",
       " 'xxpad',\n",
       " 'xxbos',\n",
       " 'xxeos',\n",
       " 'xxfld',\n",
       " 'xxmaj',\n",
       " 'xxup',\n",
       " 'xxrep',\n",
       " 'xxwrep',\n",
       " '.']"
      ]
     },
     "execution_count": 21,
     "metadata": {},
     "output_type": "execute_result"
    }
   ],
   "source": [
    "# Top 10 words (unknown, space, end of line.. etc)\n",
    "data.vocab.itos[:10]"
   ]
  },
  {
   "cell_type": "code",
   "execution_count": 22,
   "metadata": {},
   "outputs": [
    {
     "data": {
      "text/plain": [
       "Text xxbos xxmaj the bad- xxmaj well for the price i expected more . xxmaj do n't get me wrong the food was good but boy was it expensive . i do nt usually eat at high end steakhouses because i can cook a steak at home . xxmaj we were out for a night on the town so why not splurge a little . i think our server was not as experienced as the others . i heard other servers xxunk the menu as well as mentioning things that were not on the menu . xxmaj ours did not do that . xxmaj the place smelled like sewage in the main area . xxmaj luckily our section was fine . xxmaj the air conditioning was awfully cold . xxmaj we spent just under $ 200 once tip was added for my wife and xxup i. xxmaj and that was without drinks . \n",
       "  xxmaj the good- 32 oz was cooked and seasoned just the way i like it . xxmaj its nice having a steak being served on an extremely hot plate . xxmaj mashed sweet potato were really tasty . xxmaj and the asparagus was perfectly cooked and still crunchy . xxmaj the chocolate mousse was not overly rich tasty like many other places ."
      ]
     },
     "execution_count": 22,
     "metadata": {},
     "output_type": "execute_result"
    }
   ],
   "source": [
    "# Example tokenised review\n",
    "data.train_ds[0][0]"
   ]
  },
  {
   "cell_type": "markdown",
   "metadata": {},
   "source": [
    "`xxbos` is the token for beginning of sentence"
   ]
  },
  {
   "cell_type": "code",
   "execution_count": 23,
   "metadata": {},
   "outputs": [
    {
     "data": {
      "text/plain": [
       "array([   2,    5,   10, 7629,    5,  112,   20,   10,  204,   13], dtype=int64)"
      ]
     },
     "execution_count": 23,
     "metadata": {},
     "output_type": "execute_result"
    }
   ],
   "source": [
    "# Replacing tokens with their index position (as model requires)\n",
    "data.train_ds[0][0].data[:10]"
   ]
  },
  {
   "cell_type": "markdown",
   "metadata": {},
   "source": [
    "### Language Model\n",
    "Model pretrained on a cleaned subset of wikipedia called wikitext-103.\n",
    "That model has been trained to guess what the next word is, its input being all the previous words."
   ]
  },
  {
   "cell_type": "code",
   "execution_count": 27,
   "metadata": {},
   "outputs": [],
   "source": [
    "# Decrease batchsize if GPU can't handle the load\n",
    "\n",
    "bs = 24       # range 12 - 48"
   ]
  },
  {
   "cell_type": "code",
   "execution_count": 28,
   "metadata": {
    "scrolled": true
   },
   "outputs": [
    {
     "data": {
      "text/plain": [
       "[WindowsPath('C:/Users/luked/.fastai/data/yelp_review_full_csv/data_lm.pkl'),\n",
       " WindowsPath('C:/Users/luked/.fastai/data/yelp_review_full_csv/data_save.pkl'),\n",
       " WindowsPath('C:/Users/luked/.fastai/data/yelp_review_full_csv/readme.txt'),\n",
       " WindowsPath('C:/Users/luked/.fastai/data/yelp_review_full_csv/test'),\n",
       " WindowsPath('C:/Users/luked/.fastai/data/yelp_review_full_csv/test.csv'),\n",
       " WindowsPath('C:/Users/luked/.fastai/data/yelp_review_full_csv/test_df_sample.csv'),\n",
       " WindowsPath('C:/Users/luked/.fastai/data/yelp_review_full_csv/train'),\n",
       " WindowsPath('C:/Users/luked/.fastai/data/yelp_review_full_csv/train.csv'),\n",
       " WindowsPath('C:/Users/luked/.fastai/data/yelp_review_full_csv/train_df_sample.csv')]"
      ]
     },
     "execution_count": 28,
     "metadata": {},
     "output_type": "execute_result"
    }
   ],
   "source": [
    "path = untar_data(URLs.YELP_REVIEWS)\n",
    "path.ls()"
   ]
  },
  {
   "cell_type": "markdown",
   "metadata": {},
   "source": [
    "### Create databunch and process with vocab (above)"
   ]
  },
  {
   "cell_type": "code",
   "execution_count": 38,
   "metadata": {},
   "outputs": [
    {
     "data": {
      "text/html": [],
      "text/plain": [
       "<IPython.core.display.HTML object>"
      ]
     },
     "metadata": {},
     "output_type": "display_data"
    },
    {
     "data": {
      "text/html": [],
      "text/plain": [
       "<IPython.core.display.HTML object>"
      ]
     },
     "metadata": {},
     "output_type": "display_data"
    },
    {
     "data": {
      "text/html": [],
      "text/plain": [
       "<IPython.core.display.HTML object>"
      ]
     },
     "metadata": {},
     "output_type": "display_data"
    },
    {
     "data": {
      "text/html": [],
      "text/plain": [
       "<IPython.core.display.HTML object>"
      ]
     },
     "metadata": {},
     "output_type": "display_data"
    }
   ],
   "source": [
    "data_lm = TextLMDataBunch.from_csv(path, 'train_df_sample.csv')\n",
    "data_clas = TextClasDataBunch.from_csv(path, 'train_df_sample.csv', vocab=data_lm.train_ds.vocab)"
   ]
  },
  {
   "cell_type": "code",
   "execution_count": 39,
   "metadata": {},
   "outputs": [
    {
     "data": {
      "text/html": [
       "<table border=\"1\" class=\"dataframe\">\n",
       "  <thead>\n",
       "    <tr style=\"text-align: right;\">\n",
       "      <th>idx</th>\n",
       "      <th>text</th>\n",
       "    </tr>\n",
       "  </thead>\n",
       "  <tbody>\n",
       "    <tr>\n",
       "      <td>0</td>\n",
       "      <td>trips to the xxmaj strip in the last couple years . xxmaj we 'd read up on reviews beforehand so we knew that this was more a xxmaj broadway style show than a straight xxmaj cirque show . xxmaj so we did n't enter the theater with any xxunk . \\n \\n  xxmaj earlier in the day as we purchased our tickets at the xxmaj box xxmaj office ,</td>\n",
       "    </tr>\n",
       "    <tr>\n",
       "      <td>1</td>\n",
       "      <td>something to the texture of the meat . \\n \\n  xxmaj there is serious xxunk in downtown xxmaj phoenix now . xxmaj this place is not ready to succeed here . xxbos xxmaj this is n't a movie theater that i frequent regularly since i live in xxup xxunk , but the \" xxunk \" since xxmaj rave owned the place seems favorable . xxmaj they 've added extended</td>\n",
       "    </tr>\n",
       "    <tr>\n",
       "      <td>2</td>\n",
       "      <td>. xxmaj but - once i am on the road , i see something that makes me more than a little disappointed . i had mentioned the rain / mudstorm from a few weeks ago ? xxmaj well , i had left my windows xxunk in the office parking lot that night - and had plenty on mud drops on both front doors - the interior xxunk and armrests .</td>\n",
       "    </tr>\n",
       "    <tr>\n",
       "      <td>3</td>\n",
       "      <td>chef . xxmaj he xxunk and tells us ( ! ) that the rolls are actually correct : that salmon colored roll is indeed tuna , and the tuna colored roll is , in fact , salmon . xxmaj when confronted with the issue of salmon colored xxunk ( not to mention half of xxmaj craig xxmaj xxunk 's xxunk ) being named after the wrong xxunk fish , the</td>\n",
       "    </tr>\n",
       "    <tr>\n",
       "      <td>4</td>\n",
       "      <td>, i figured she was hand xxunk them in the back . i xxunk walking over to the bar and xxunk myself but i xxunk . \\n \\n  xxmaj all in all , if i 'm ever in town again i most likely wo nt come here . xxmaj it was a total let down . \\n  * sad face * xxbos xxmaj been there several times .</td>\n",
       "    </tr>\n",
       "  </tbody>\n",
       "</table>"
      ],
      "text/plain": [
       "<IPython.core.display.HTML object>"
      ]
     },
     "metadata": {},
     "output_type": "display_data"
    }
   ],
   "source": [
    "data_lm.show_batch()"
   ]
  },
  {
   "cell_type": "markdown",
   "metadata": {},
   "source": [
    "### Transfer learning Model (pre-trained `AWD_LSTM` network on `WikiText103`)"
   ]
  },
  {
   "cell_type": "code",
   "execution_count": 40,
   "metadata": {},
   "outputs": [],
   "source": [
    "learn = language_model_learner(data_lm, AWD_LSTM, drop_mult=0.3)"
   ]
  },
  {
   "cell_type": "code",
   "execution_count": 42,
   "metadata": {},
   "outputs": [
    {
     "data": {
      "text/html": [],
      "text/plain": [
       "<IPython.core.display.HTML object>"
      ]
     },
     "metadata": {},
     "output_type": "display_data"
    },
    {
     "name": "stdout",
     "output_type": "stream",
     "text": [
      "LR Finder is complete, type {learner_name}.recorder.plot() to see the graph.\n"
     ]
    }
   ],
   "source": [
    "# Learning rate finder\n",
    "learn.lr_find()"
   ]
  },
  {
   "cell_type": "code",
   "execution_count": null,
   "metadata": {},
   "outputs": [],
   "source": [
    "learn.recorder.plot(skip_end=15)"
   ]
  },
  {
   "cell_type": "code",
   "execution_count": null,
   "metadata": {},
   "outputs": [],
   "source": [
    "learn.fit_one_cycle(1, 1e-2, moms=(0.8,0.7))"
   ]
  },
  {
   "cell_type": "code",
   "execution_count": null,
   "metadata": {},
   "outputs": [],
   "source": [
    "# Now unfreeze embedding layer, to fine tune to new `yelp corpus`"
   ]
  },
  {
   "cell_type": "code",
   "execution_count": null,
   "metadata": {},
   "outputs": [],
   "source": [
    "learn.unfreeze()\n",
    "# May take a while to run\n",
    "learn.fit_one_cycle(10, 1e-3, moms=(0.8,0.7))"
   ]
  },
  {
   "cell_type": "markdown",
   "metadata": {},
   "source": [
    "* Now, the encoder is fine tuned to `Yelp Reviews`\n",
    "* The encoder can be used to predict the next word in a sentence\n",
    "* The next step is to remove the final layers of the encoder, and replace them with a classification/regression model"
   ]
  },
  {
   "cell_type": "code",
   "execution_count": null,
   "metadata": {},
   "outputs": [],
   "source": []
  },
  {
   "cell_type": "code",
   "execution_count": null,
   "metadata": {},
   "outputs": [],
   "source": []
  },
  {
   "cell_type": "code",
   "execution_count": null,
   "metadata": {},
   "outputs": [],
   "source": []
  },
  {
   "cell_type": "code",
   "execution_count": null,
   "metadata": {},
   "outputs": [],
   "source": []
  },
  {
   "cell_type": "code",
   "execution_count": null,
   "metadata": {},
   "outputs": [],
   "source": []
  },
  {
   "cell_type": "code",
   "execution_count": null,
   "metadata": {},
   "outputs": [],
   "source": []
  },
  {
   "cell_type": "code",
   "execution_count": null,
   "metadata": {},
   "outputs": [],
   "source": []
  },
  {
   "cell_type": "code",
   "execution_count": null,
   "metadata": {},
   "outputs": [],
   "source": []
  },
  {
   "cell_type": "code",
   "execution_count": null,
   "metadata": {},
   "outputs": [],
   "source": []
  },
  {
   "cell_type": "code",
   "execution_count": null,
   "metadata": {},
   "outputs": [],
   "source": []
  },
  {
   "cell_type": "code",
   "execution_count": null,
   "metadata": {},
   "outputs": [],
   "source": []
  },
  {
   "cell_type": "code",
   "execution_count": null,
   "metadata": {},
   "outputs": [],
   "source": []
  },
  {
   "cell_type": "code",
   "execution_count": null,
   "metadata": {},
   "outputs": [],
   "source": []
  }
 ],
 "metadata": {
  "kernelspec": {
   "display_name": "Python [conda env:fastai] *",
   "language": "python",
   "name": "conda-env-fastai-py"
  },
  "language_info": {
   "codemirror_mode": {
    "name": "ipython",
    "version": 3
   },
   "file_extension": ".py",
   "mimetype": "text/x-python",
   "name": "python",
   "nbconvert_exporter": "python",
   "pygments_lexer": "ipython3",
   "version": "3.7.5"
  }
 },
 "nbformat": 4,
 "nbformat_minor": 2
}
