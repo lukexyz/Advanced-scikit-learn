{
 "cells": [
  {
   "cell_type": "markdown",
   "metadata": {},
   "source": [
    "### Recursive Feature Elimination\n",
    "EstimatorCV objects for efficient parameter search"
   ]
  },
  {
   "cell_type": "code",
   "execution_count": 3,
   "metadata": {
    "collapsed": false
   },
   "outputs": [
    {
     "name": "stdout",
     "output_type": "stream",
     "text": [
      "========\n",
      "Logistic Regression model reduced to 2 features.\n",
      "Score: 0.9473684210526315\n",
      "========\n"
     ]
    }
   ],
   "source": [
    "import matplotlib.pyplot as plt\n",
    "import numpy as np\n",
    "%matplotlib inline\n",
    "\n",
    "# load dataset\n",
    "from sklearn.datasets import load_iris\n",
    "from sklearn.cross_validation import train_test_split\n",
    "\n",
    "iris = load_iris()\n",
    "X_train, X_test, y_train, y_test = train_test_split(iris.data, iris.target, random_state=0)\n",
    "\n",
    "# recusive feature elimination\n",
    "# (drops the feature with the smallest absolute coefficient)\n",
    "# (then trains the model on the new feature set)\n",
    "from sklearn.feature_selection import RFE\n",
    "from sklearn.linear_model import LogisticRegression\n",
    "\n",
    "# reducing to 2 features\n",
    "feature_elim_lr = RFE(LogisticRegression(C=100), n_features_to_select=2)\n",
    "feature_elim_lr.fit(X_train, y_train)\n",
    "score_two_f = feature_elim_lr.score(X_test, y_test)\n",
    "print('='*8)\n",
    "print('Logistic Regression model reduced to 2 features.')\n",
    "print('Score: {}'.format(score_two_f))\n",
    "print('='*8)"
   ]
  },
  {
   "cell_type": "code",
   "execution_count": 4,
   "metadata": {
    "collapsed": false
   },
   "outputs": [
    {
     "name": "stdout",
     "output_type": "stream",
     "text": [
      "========\n",
      "{'n_features_to_select': 4}\n",
      "Out of [4] possible features.\n",
      "========\n"
     ]
    }
   ],
   "source": [
    "# using grid search to find optimal number of features\n",
    "\n",
    "from sklearn.grid_search import GridSearchCV\n",
    "\n",
    "param_grid = {'n_features_to_select': list(range(1, 5))}\n",
    "grid_search = GridSearchCV(feature_elim_lr, param_grid, cv=5)\n",
    "grid_search.fit(X_train, y_train)\n",
    "grid_search.score(X_test, y_test)\n",
    "\n",
    "# optimal features\n",
    "print('='*8)\n",
    "print(grid_search.best_params_)\n",
    "print('Out of [{}] possible features.'.format(X_train.shape[1]))\n",
    "print('='*8)"
   ]
  },
  {
   "cell_type": "code",
   "execution_count": 7,
   "metadata": {
    "collapsed": false
   },
   "outputs": [
    {
     "data": {
      "text/plain": [
       "4"
      ]
     },
     "execution_count": 7,
     "metadata": {},
     "output_type": "execute_result"
    }
   ],
   "source": [
    "# RFECV - automatic parameter selection using cross validation\n",
    "from sklearn.feature_selection import RFECV\n",
    "\n",
    "rfecv = RFECV(LogisticRegression(C=100)).fit(X_train, y_train)\n",
    "rfecv.score(X_test, y_test)\n",
    "rfecv.n_features_"
   ]
  },
  {
   "cell_type": "code",
   "execution_count": 12,
   "metadata": {
    "collapsed": false
   },
   "outputs": [
    {
     "name": "stdout",
     "output_type": "stream",
     "text": [
      "========\n",
      "Comparing LR feature dimensions\n",
      "4 Feature Score: 0.9736842105263158\n",
      "2 Feature Score: 0.9473684210526315\n",
      "========\n"
     ]
    }
   ],
   "source": [
    "# LR score with 4 features\n",
    "feature_elim_lr = RFE(LogisticRegression(C=100), n_features_to_select=4)\n",
    "feature_elim_lr.fit(X_train, y_train)\n",
    "score_four_f = feature_elim_lr.score(X_test, y_test)\n",
    "print('='*8)\n",
    "print('Comparing LR feature dimensions')\n",
    "print('4 Feature Score: {}'.format(score_four_f))\n",
    "print('2 Feature Score: {}'.format(score_two_f))\n",
    "print('='*8)"
   ]
  }
 ],
 "metadata": {
  "kernelspec": {
   "display_name": "Python 3",
   "language": "python",
   "name": "python3"
  },
  "language_info": {
   "codemirror_mode": {
    "name": "ipython",
    "version": 3
   },
   "file_extension": ".py",
   "mimetype": "text/x-python",
   "name": "python",
   "nbconvert_exporter": "python",
   "pygments_lexer": "ipython3",
   "version": "3.5.1"
  }
 },
 "nbformat": 4,
 "nbformat_minor": 0
}
