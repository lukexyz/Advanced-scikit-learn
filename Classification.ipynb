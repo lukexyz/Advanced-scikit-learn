{
 "cells": [
  {
   "cell_type": "code",
   "execution_count": 1,
   "metadata": {
    "collapsed": false,
    "scrolled": true
   },
   "outputs": [],
   "source": [
    "import matplotlib.pyplot as plt\n",
    "import numpy as np\n",
    "%matplotlib inline"
   ]
  },
  {
   "cell_type": "markdown",
   "metadata": {},
   "source": [
    "Classification\n",
    "==============="
   ]
  },
  {
   "cell_type": "markdown",
   "metadata": {},
   "source": [
    "Get some data to play with"
   ]
  },
  {
   "cell_type": "code",
   "execution_count": 2,
   "metadata": {
    "collapsed": false
   },
   "outputs": [
    {
     "data": {
      "text/plain": [
       "dict_keys(['images', 'target', 'DESCR', 'data', 'target_names'])"
      ]
     },
     "execution_count": 2,
     "metadata": {},
     "output_type": "execute_result"
    }
   ],
   "source": [
    "from sklearn.datasets import load_digits\n",
    "digits = load_digits()\n",
    "digits.keys()"
   ]
  },
  {
   "cell_type": "code",
   "execution_count": 56,
   "metadata": {
    "collapsed": false
   },
   "outputs": [
    {
     "data": {
      "text/plain": [
       "(1797, 8, 8)"
      ]
     },
     "execution_count": 56,
     "metadata": {},
     "output_type": "execute_result"
    }
   ],
   "source": [
    "digits.images.shape"
   ]
  },
  {
   "cell_type": "code",
   "execution_count": 57,
   "metadata": {
    "collapsed": false
   },
   "outputs": [
    {
     "name": "stdout",
     "output_type": "stream",
     "text": [
      "[[  0.   0.   5.  13.   9.   1.   0.   0.]\n",
      " [  0.   0.  13.  15.  10.  15.   5.   0.]\n",
      " [  0.   3.  15.   2.   0.  11.   8.   0.]\n",
      " [  0.   4.  12.   0.   0.   8.   8.   0.]\n",
      " [  0.   5.   8.   0.   0.   9.   8.   0.]\n",
      " [  0.   4.  11.   0.   1.  12.   7.   0.]\n",
      " [  0.   2.  14.   5.  10.  12.   0.   0.]\n",
      " [  0.   0.   6.  13.  10.   0.   0.   0.]]\n"
     ]
    }
   ],
   "source": [
    "print(digits.images[0])"
   ]
  },
  {
   "cell_type": "code",
   "execution_count": 58,
   "metadata": {
    "collapsed": false
   },
   "outputs": [
    {
     "data": {
      "text/plain": [
       "<matplotlib.image.AxesImage at 0x1124fd780>"
      ]
     },
     "execution_count": 58,
     "metadata": {},
     "output_type": "execute_result"
    },
    {
     "data": {
      "image/png": "[encoded data removed]",
      "text/plain": [
       "<matplotlib.figure.Figure at 0x1120660b8>"
      ]
     },
     "metadata": {},
     "output_type": "display_data"
    }
   ],
   "source": [
    "plt.matshow(digits.images[0], cmap=plt.cm.Greys)"
   ]
  },
  {
   "cell_type": "code",
   "execution_count": 59,
   "metadata": {
    "collapsed": false
   },
   "outputs": [
    {
     "data": {
      "text/plain": [
       "(1797, 64)"
      ]
     },
     "execution_count": 59,
     "metadata": {},
     "output_type": "execute_result"
    }
   ],
   "source": [
    "digits.data.shape"
   ]
  },
  {
   "cell_type": "code",
   "execution_count": 60,
   "metadata": {
    "collapsed": false
   },
   "outputs": [
    {
     "data": {
      "text/plain": [
       "(1797,)"
      ]
     },
     "execution_count": 60,
     "metadata": {},
     "output_type": "execute_result"
    }
   ],
   "source": [
    "digits.target.shape"
   ]
  },
  {
   "cell_type": "code",
   "execution_count": 61,
   "metadata": {
    "collapsed": false
   },
   "outputs": [
    {
     "data": {
      "text/plain": [
       "array([0, 1, 2, ..., 8, 9, 8])"
      ]
     },
     "execution_count": 61,
     "metadata": {},
     "output_type": "execute_result"
    }
   ],
   "source": [
    "digits.target"
   ]
  },
  {
   "cell_type": "markdown",
   "metadata": {},
   "source": [
    "**Data is always a numpy array (or sparse matrix) of shape (n_samples, n_features)**"
   ]
  },
  {
   "cell_type": "markdown",
   "metadata": {},
   "source": [
    "Split the data to get going"
   ]
  },
  {
   "cell_type": "code",
   "execution_count": 62,
   "metadata": {
    "collapsed": false
   },
   "outputs": [],
   "source": [
    "from sklearn.cross_validation import train_test_split\n",
    "X_train, X_test, y_train, y_test = train_test_split(digits.data, digits.target)"
   ]
  },
  {
   "cell_type": "markdown",
   "metadata": {},
   "source": [
    "Really Simple API\n",
    "-------------------\n",
    "0) Import your model class"
   ]
  },
  {
   "cell_type": "code",
   "execution_count": 63,
   "metadata": {
    "collapsed": false
   },
   "outputs": [],
   "source": [
    "from sklearn.svm import LinearSVC"
   ]
  },
  {
   "cell_type": "markdown",
   "metadata": {},
   "source": [
    "1) Instantiate an object and set the parameters"
   ]
  },
  {
   "cell_type": "code",
   "execution_count": 64,
   "metadata": {
    "collapsed": false
   },
   "outputs": [],
   "source": [
    "svm = LinearSVC(C=0.1)"
   ]
  },
  {
   "cell_type": "markdown",
   "metadata": {},
   "source": [
    "2) Fit the model"
   ]
  },
  {
   "cell_type": "code",
   "execution_count": 65,
   "metadata": {
    "collapsed": false
   },
   "outputs": [
    {
     "data": {
      "text/plain": [
       "LinearSVC(C=0.1, class_weight=None, dual=True, fit_intercept=True,\n",
       "     intercept_scaling=1, loss='squared_hinge', max_iter=1000,\n",
       "     multi_class='ovr', penalty='l2', random_state=None, tol=0.0001,\n",
       "     verbose=0)"
      ]
     },
     "execution_count": 65,
     "metadata": {},
     "output_type": "execute_result"
    }
   ],
   "source": [
    "svm.fit(X_train, y_train)"
   ]
  },
  {
   "cell_type": "markdown",
   "metadata": {},
   "source": [
    "3) Apply / evaluate"
   ]
  },
  {
   "cell_type": "code",
   "execution_count": 66,
   "metadata": {
    "collapsed": false
   },
   "outputs": [
    {
     "name": "stdout",
     "output_type": "stream",
     "text": [
      "[5 8 1 ..., 9 7 1]\n",
      "[5 8 1 ..., 9 7 1]\n"
     ]
    }
   ],
   "source": [
    "print(svm.predict(X_train))\n",
    "print(y_train)"
   ]
  },
  {
   "cell_type": "code",
   "execution_count": 67,
   "metadata": {
    "collapsed": false
   },
   "outputs": [
    {
     "data": {
      "text/plain": [
       "0.99406087602078697"
      ]
     },
     "execution_count": 67,
     "metadata": {},
     "output_type": "execute_result"
    }
   ],
   "source": [
    "svm.score(X_train, y_train)"
   ]
  },
  {
   "cell_type": "code",
   "execution_count": 68,
   "metadata": {
    "collapsed": false
   },
   "outputs": [
    {
     "data": {
      "text/plain": [
       "0.94888888888888889"
      ]
     },
     "execution_count": 68,
     "metadata": {},
     "output_type": "execute_result"
    }
   ],
   "source": [
    "svm.score(X_test, y_test)"
   ]
  },
  {
   "cell_type": "markdown",
   "metadata": {},
   "source": [
    "And again\n",
    "---------"
   ]
  },
  {
   "cell_type": "code",
   "execution_count": 69,
   "metadata": {
    "collapsed": false
   },
   "outputs": [],
   "source": [
    "from sklearn.ensemble import RandomForestClassifier"
   ]
  },
  {
   "cell_type": "code",
   "execution_count": 70,
   "metadata": {
    "collapsed": false
   },
   "outputs": [],
   "source": [
    "rf = RandomForestClassifier(n_estimators=50)"
   ]
  },
  {
   "cell_type": "code",
   "execution_count": 71,
   "metadata": {
    "collapsed": false
   },
   "outputs": [
    {
     "data": {
      "text/plain": [
       "RandomForestClassifier(bootstrap=True, class_weight=None, criterion='gini',\n",
       "            max_depth=None, max_features='auto', max_leaf_nodes=None,\n",
       "            min_samples_leaf=1, min_samples_split=2,\n",
       "            min_weight_fraction_leaf=0.0, n_estimators=50, n_jobs=1,\n",
       "            oob_score=False, random_state=None, verbose=0,\n",
       "            warm_start=False)"
      ]
     },
     "execution_count": 71,
     "metadata": {},
     "output_type": "execute_result"
    }
   ],
   "source": [
    "rf.fit(X_train, y_train)"
   ]
  },
  {
   "cell_type": "code",
   "execution_count": 72,
   "metadata": {
    "collapsed": false
   },
   "outputs": [
    {
     "data": {
      "text/plain": [
       "array([9, 5, 3, 0, 9, 2, 4, 8, 5, 5, 5, 3, 0, 1, 8, 1, 2, 5, 2, 5, 0, 2, 2,\n",
       "       4, 9, 9, 7, 5, 4, 8, 8, 8, 6, 1, 5, 8, 6, 2, 4, 7, 8, 0, 7, 7, 6, 6,\n",
       "       0, 6, 7, 8, 3, 5, 6, 6, 3, 2, 7, 8, 1, 2, 8, 6, 3, 1, 3, 2, 3, 1, 0,\n",
       "       3, 1, 8, 6, 6, 4, 2, 4, 6, 5, 4, 5, 2, 1, 1, 9, 2, 4, 5, 5, 0, 4, 4,\n",
       "       6, 6, 0, 8, 3, 3, 7, 1, 4, 2, 4, 3, 7, 7, 8, 8, 4, 9, 5, 6, 9, 7, 8,\n",
       "       1, 1, 2, 1, 1, 6, 2, 3, 5, 6, 9, 3, 5, 4, 4, 8, 3, 0, 1, 4, 6, 0, 1,\n",
       "       2, 1, 9, 3, 8, 7, 2, 1, 4, 2, 4, 6, 5, 4, 7, 9, 0, 5, 9, 0, 2, 9, 3,\n",
       "       9, 1, 3, 2, 3, 3, 0, 8, 4, 1, 5, 9, 9, 0, 3, 5, 1, 5, 1, 8, 6, 0, 7,\n",
       "       9, 4, 0, 1, 3, 4, 5, 8, 6, 6, 1, 9, 1, 3, 6, 1, 6, 1, 9, 5, 5, 4, 8,\n",
       "       0, 2, 4, 7, 2, 6, 3, 9, 7, 7, 4, 7, 2, 0, 4, 7, 8, 5, 4, 8, 7, 0, 0,\n",
       "       3, 2, 6, 5, 0, 0, 5, 6, 9, 5, 3, 2, 6, 1, 3, 6, 4, 9, 7, 2, 3, 0, 1,\n",
       "       3, 0, 9, 6, 2, 1, 7, 6, 8, 7, 1, 9, 7, 3, 9, 1, 8, 0, 7, 0, 2, 4, 3,\n",
       "       5, 6, 7, 1, 4, 1, 6, 3, 7, 2, 5, 3, 2, 7, 5, 8, 3, 6, 3, 9, 3, 0, 2,\n",
       "       1, 7, 4, 9, 6, 2, 1, 3, 7, 5, 8, 3, 7, 2, 1, 4, 9, 4, 0, 6, 5, 3, 2,\n",
       "       3, 8, 9, 7, 3, 6, 7, 8, 9, 6, 5, 8, 6, 9, 2, 0, 7, 9, 8, 8, 0, 8, 1,\n",
       "       0, 7, 1, 4, 6, 4, 6, 6, 4, 0, 0, 3, 0, 0, 0, 6, 6, 7, 7, 6, 9, 2, 7,\n",
       "       0, 8, 5, 1, 7, 2, 4, 4, 0, 5, 8, 5, 2, 0, 4, 2, 8, 3, 9, 3, 5, 4, 8,\n",
       "       8, 3, 6, 7, 4, 8, 4, 9, 3, 5, 9, 1, 2, 5, 6, 0, 5, 6, 6, 2, 8, 3, 7,\n",
       "       1, 2, 3, 1, 1, 5, 9, 6, 8, 8, 9, 0, 2, 6, 6, 7, 7, 6, 0, 1, 1, 5, 3,\n",
       "       4, 2, 8, 1, 7, 8, 0, 7, 2, 2, 7, 8, 3])"
      ]
     },
     "execution_count": 72,
     "metadata": {},
     "output_type": "execute_result"
    }
   ],
   "source": [
    "rf.predict(X_test)"
   ]
  },
  {
   "cell_type": "code",
   "execution_count": 73,
   "metadata": {
    "collapsed": false
   },
   "outputs": [
    {
     "data": {
      "text/plain": [
       "0.97999999999999998"
      ]
     },
     "execution_count": 73,
     "metadata": {},
     "output_type": "execute_result"
    }
   ],
   "source": [
    "rf.score(X_test, y_test)"
   ]
  },
  {
   "cell_type": "markdown",
   "metadata": {
    "collapsed": false
   },
   "source": [
    "<h1>Classifier Comparison</h1>\n",
    "<img src=\"classifier_comparison.png\" width=100%>"
   ]
  },
  {
   "cell_type": "markdown",
   "metadata": {},
   "source": [
    "Labels Can Be Anything\n",
    "============================="
   ]
  },
  {
   "cell_type": "code",
   "execution_count": 74,
   "metadata": {
    "collapsed": false
   },
   "outputs": [],
   "source": [
    "numbers = np.array([\"zero\", \"one\", \"two\", \"three\", \"four\", \"five\", \"six\", \"seven\", \"eight\", \"nine\"])"
   ]
  },
  {
   "cell_type": "code",
   "execution_count": 75,
   "metadata": {
    "collapsed": false
   },
   "outputs": [
    {
     "data": {
      "text/plain": [
       "LinearSVC(C=0.1, class_weight=None, dual=True, fit_intercept=True,\n",
       "     intercept_scaling=1, loss='squared_hinge', max_iter=1000,\n",
       "     multi_class='ovr', penalty='l2', random_state=None, tol=0.0001,\n",
       "     verbose=0)"
      ]
     },
     "execution_count": 75,
     "metadata": {},
     "output_type": "execute_result"
    }
   ],
   "source": [
    "y_train_string = numbers[y_train]\n",
    "svm.fit(X_train, y_train_string)"
   ]
  },
  {
   "cell_type": "code",
   "execution_count": 76,
   "metadata": {
    "collapsed": false,
    "scrolled": true
   },
   "outputs": [
    {
     "data": {
      "text/plain": [
       "array(['nine', 'five', 'three', 'zero', 'nine', 'two', 'four', 'eight',\n",
       "       'five', 'five', 'five', 'three', 'zero', 'one', 'eight', 'one',\n",
       "       'two', 'five', 'two', 'five', 'six', 'two', 'two', 'four', 'nine',\n",
       "       'nine', 'seven', 'one', 'four', 'eight', 'eight', 'eight', 'six',\n",
       "       'one', 'five', 'eight', 'six', 'two', 'four', 'seven', 'eight',\n",
       "       'zero', 'seven', 'seven', 'six', 'six', 'zero', 'six', 'seven',\n",
       "       'nine', 'three', 'five', 'six', 'six', 'three', 'two', 'seven',\n",
       "       'eight', 'one', 'two', 'eight', 'six', 'three', 'one', 'three',\n",
       "       'two', 'three', 'one', 'zero', 'three', 'one', 'eight', 'six',\n",
       "       'six', 'four', 'two', 'four', 'six', 'five', 'four', 'five', 'two',\n",
       "       'one', 'eight', 'nine', 'two', 'four', 'five', 'five', 'zero',\n",
       "       'four', 'four', 'six', 'six', 'zero', 'eight', 'three', 'three',\n",
       "       'seven', 'one', 'four', 'two', 'four', 'three', 'seven', 'seven',\n",
       "       'eight', 'eight', 'four', 'nine', 'five', 'six', 'nine', 'seven',\n",
       "       'eight', 'one', 'one', 'two', 'one', 'one', 'six', 'two', 'three',\n",
       "       'five', 'six', 'nine', 'three', 'five', 'four', 'four', 'eight',\n",
       "       'three', 'zero', 'one', 'four', 'six', 'zero', 'one', 'two', 'one',\n",
       "       'nine', 'three', 'eight', 'seven', 'two', 'one', 'four', 'two',\n",
       "       'four', 'six', 'five', 'four', 'one', 'nine', 'zero', 'five',\n",
       "       'nine', 'zero', 'two', 'eight', 'three', 'three', 'one', 'three',\n",
       "       'two', 'three', 'three', 'zero', 'eight', 'four', 'three', 'five',\n",
       "       'nine', 'nine', 'zero', 'three', 'five', 'one', 'five', 'one',\n",
       "       'eight', 'six', 'zero', 'seven', 'zero', 'four', 'zero', 'one',\n",
       "       'three', 'four', 'five', 'eight', 'six', 'six', 'one', 'nine',\n",
       "       'one', 'three', 'six', 'one', 'six', 'one', 'nine', 'five', 'five',\n",
       "       'four', 'eight', 'zero', 'two', 'four', 'seven', 'two', 'six',\n",
       "       'three', 'nine', 'seven', 'seven', 'four', 'seven', 'two', 'zero',\n",
       "       'four', 'seven', 'eight', 'five', 'four', 'eight', 'seven', 'zero',\n",
       "       'zero', 'three', 'two', 'six', 'five', 'zero', 'zero', 'five',\n",
       "       'six', 'nine', 'five', 'three', 'two', 'six', 'one', 'three', 'six',\n",
       "       'four', 'nine', 'seven', 'two', 'three', 'zero', 'four', 'three',\n",
       "       'zero', 'nine', 'six', 'two', 'one', 'seven', 'six', 'eight',\n",
       "       'seven', 'one', 'nine', 'seven', 'three', 'nine', 'one', 'eight',\n",
       "       'zero', 'seven', 'zero', 'two', 'four', 'three', 'five', 'six',\n",
       "       'seven', 'one', 'four', 'one', 'six', 'three', 'nine', 'two',\n",
       "       'five', 'three', 'two', 'seven', 'five', 'eight', 'three', 'six',\n",
       "       'three', 'nine', 'three', 'zero', 'two', 'one', 'seven', 'four',\n",
       "       'nine', 'six', 'two', 'one', 'three', 'eight', 'five', 'eight',\n",
       "       'three', 'seven', 'two', 'one', 'four', 'nine', 'four', 'zero',\n",
       "       'six', 'five', 'three', 'two', 'three', 'eight', 'nine', 'seven',\n",
       "       'three', 'six', 'seven', 'eight', 'nine', 'six', 'five', 'eight',\n",
       "       'six', 'nine', 'two', 'zero', 'seven', 'nine', 'eight', 'eight',\n",
       "       'zero', 'eight', 'one', 'zero', 'seven', 'eight', 'four', 'six',\n",
       "       'four', 'six', 'six', 'four', 'zero', 'zero', 'three', 'zero',\n",
       "       'zero', 'zero', 'six', 'six', 'seven', 'eight', 'six', 'nine',\n",
       "       'two', 'seven', 'zero', 'eight', 'five', 'one', 'seven', 'two',\n",
       "       'four', 'four', 'zero', 'five', 'eight', 'five', 'three', 'zero',\n",
       "       'four', 'two', 'eight', 'three', 'nine', 'three', 'five', 'four',\n",
       "       'eight', 'eight', 'three', 'six', 'seven', 'four', 'eight', 'four',\n",
       "       'nine', 'three', 'five', 'nine', 'one', 'two', 'five', 'six',\n",
       "       'zero', 'five', 'six', 'six', 'three', 'eight', 'three', 'seven',\n",
       "       'one', 'two', 'three', 'one', 'eight', 'five', 'nine', 'six',\n",
       "       'eight', 'eight', 'eight', 'zero', 'two', 'six', 'six', 'seven',\n",
       "       'seven', 'six', 'zero', 'one', 'one', 'five', 'three', 'four',\n",
       "       'two', 'eight', 'one', 'seven', 'eight', 'zero', 'seven', 'two',\n",
       "       'two', 'seven', 'eight', 'three'], \n",
       "      dtype='<U5')"
      ]
     },
     "execution_count": 76,
     "metadata": {},
     "output_type": "execute_result"
    }
   ],
   "source": [
    "svm.predict(X_test)"
   ]
  }
 ],
 "metadata": {
  "kernelspec": {
   "display_name": "Python 3",
   "language": "python",
   "name": "python3"
  },
  "language_info": {
   "codemirror_mode": {
    "name": "ipython",
    "version": 3
   },
   "file_extension": ".py",
   "mimetype": "text/x-python",
   "name": "python",
   "nbconvert_exporter": "python",
   "pygments_lexer": "ipython3",
   "version": "3.5.1"
  }
 },
 "nbformat": 4,
 "nbformat_minor": 0
}
