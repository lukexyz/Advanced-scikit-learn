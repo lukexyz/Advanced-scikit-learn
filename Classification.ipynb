{
 "cells": [
  {
   "cell_type": "code",
   "execution_count": 3,
   "metadata": {
    "collapsed": false,
    "scrolled": true
   },
   "outputs": [],
   "source": [
    "import matplotlib.pyplot as plt\n",
    "import numpy as np\n",
    "%matplotlib inline"
   ]
  },
  {
   "cell_type": "markdown",
   "metadata": {},
   "source": [
    "Classification\n",
    "==============="
   ]
  },
  {
   "cell_type": "markdown",
   "metadata": {},
   "source": [
    "Get some data to play with"
   ]
  },
  {
   "cell_type": "code",
   "execution_count": 4,
   "metadata": {
    "collapsed": false
   },
   "outputs": [
    {
     "data": {
      "text/plain": [
       "dict_keys(['images', 'target', 'DESCR', 'data', 'target_names'])"
      ]
     },
     "execution_count": 4,
     "metadata": {},
     "output_type": "execute_result"
    }
   ],
   "source": [
    "from sklearn.datasets import load_digits\n",
    "digits = load_digits()\n",
    "digits.keys()"
   ]
  },
  {
   "cell_type": "code",
   "execution_count": 5,
   "metadata": {
    "collapsed": false
   },
   "outputs": [
    {
     "data": {
      "text/plain": [
       "(1797, 8, 8)"
      ]
     },
     "execution_count": 5,
     "metadata": {},
     "output_type": "execute_result"
    }
   ],
   "source": [
    "digits.images.shape"
   ]
  },
  {
   "cell_type": "code",
   "execution_count": 6,
   "metadata": {
    "collapsed": false
   },
   "outputs": [
    {
     "name": "stdout",
     "output_type": "stream",
     "text": [
      "[[  0.   0.   5.  13.   9.   1.   0.   0.]\n",
      " [  0.   0.  13.  15.  10.  15.   5.   0.]\n",
      " [  0.   3.  15.   2.   0.  11.   8.   0.]\n",
      " [  0.   4.  12.   0.   0.   8.   8.   0.]\n",
      " [  0.   5.   8.   0.   0.   9.   8.   0.]\n",
      " [  0.   4.  11.   0.   1.  12.   7.   0.]\n",
      " [  0.   2.  14.   5.  10.  12.   0.   0.]\n",
      " [  0.   0.   6.  13.  10.   0.   0.   0.]]\n"
     ]
    }
   ],
   "source": [
    "print(digits.images[0])"
   ]
  },
  {
   "cell_type": "code",
   "execution_count": 7,
   "metadata": {
    "collapsed": false
   },
   "outputs": [
    {
     "data": {
      "text/plain": [
       "<matplotlib.image.AxesImage at 0x10e80f128>"
      ]
     },
     "execution_count": 7,
     "metadata": {},
     "output_type": "execute_result"
    },
    {
     "data": {
      "image/png": "[encoded data removed]",
      "text/plain": [
       "<matplotlib.figure.Figure at 0x103fd62e8>"
      ]
     },
     "metadata": {},
     "output_type": "display_data"
    }
   ],
   "source": [
    "plt.matshow(digits.images[0], cmap=plt.cm.Greys)"
   ]
  },
  {
   "cell_type": "code",
   "execution_count": 8,
   "metadata": {
    "collapsed": false
   },
   "outputs": [
    {
     "data": {
      "text/plain": [
       "(1797, 64)"
      ]
     },
     "execution_count": 8,
     "metadata": {},
     "output_type": "execute_result"
    }
   ],
   "source": [
    "digits.data.shape"
   ]
  },
  {
   "cell_type": "code",
   "execution_count": 9,
   "metadata": {
    "collapsed": false
   },
   "outputs": [
    {
     "data": {
      "text/plain": [
       "(1797,)"
      ]
     },
     "execution_count": 9,
     "metadata": {},
     "output_type": "execute_result"
    }
   ],
   "source": [
    "digits.target.shape"
   ]
  },
  {
   "cell_type": "code",
   "execution_count": 10,
   "metadata": {
    "collapsed": false
   },
   "outputs": [
    {
     "data": {
      "text/plain": [
       "array([0, 1, 2, ..., 8, 9, 8])"
      ]
     },
     "execution_count": 10,
     "metadata": {},
     "output_type": "execute_result"
    }
   ],
   "source": [
    "digits.target"
   ]
  },
  {
   "cell_type": "markdown",
   "metadata": {},
   "source": [
    "**Data is always a numpy array (or sparse matrix) of shape (n_samples, n_features)**"
   ]
  },
  {
   "cell_type": "markdown",
   "metadata": {},
   "source": [
    "Split the data to get going"
   ]
  },
  {
   "cell_type": "code",
   "execution_count": 11,
   "metadata": {
    "collapsed": false
   },
   "outputs": [],
   "source": [
    "from sklearn.cross_validation import train_test_split\n",
    "X_train, X_test, y_train, y_test = train_test_split(digits.data, digits.target)"
   ]
  },
  {
   "cell_type": "markdown",
   "metadata": {},
   "source": [
    "Really Simple API\n",
    "-------------------\n",
    "0) Import your model class"
   ]
  },
  {
   "cell_type": "code",
   "execution_count": 12,
   "metadata": {
    "collapsed": false
   },
   "outputs": [],
   "source": [
    "from sklearn.svm import LinearSVC"
   ]
  },
  {
   "cell_type": "markdown",
   "metadata": {},
   "source": [
    "1) Instantiate an object and set the parameters"
   ]
  },
  {
   "cell_type": "code",
   "execution_count": 13,
   "metadata": {
    "collapsed": false
   },
   "outputs": [],
   "source": [
    "svm = LinearSVC(C=0.1)"
   ]
  },
  {
   "cell_type": "markdown",
   "metadata": {},
   "source": [
    "2) Fit the model"
   ]
  },
  {
   "cell_type": "code",
   "execution_count": 14,
   "metadata": {
    "collapsed": false
   },
   "outputs": [
    {
     "data": {
      "text/plain": [
       "LinearSVC(C=0.1, class_weight=None, dual=True, fit_intercept=True,\n",
       "     intercept_scaling=1, loss='squared_hinge', max_iter=1000,\n",
       "     multi_class='ovr', penalty='l2', random_state=None, tol=0.0001,\n",
       "     verbose=0)"
      ]
     },
     "execution_count": 14,
     "metadata": {},
     "output_type": "execute_result"
    }
   ],
   "source": [
    "svm.fit(X_train, y_train)"
   ]
  },
  {
   "cell_type": "markdown",
   "metadata": {},
   "source": [
    "3) Apply / evaluate"
   ]
  },
  {
   "cell_type": "code",
   "execution_count": 15,
   "metadata": {
    "collapsed": false
   },
   "outputs": [
    {
     "name": "stdout",
     "output_type": "stream",
     "text": [
      "[9 8 4 ..., 1 2 9]\n",
      "[9 8 4 ..., 8 2 9]\n"
     ]
    }
   ],
   "source": [
    "print(svm.predict(X_train))\n",
    "print(y_train)"
   ]
  },
  {
   "cell_type": "code",
   "execution_count": 16,
   "metadata": {
    "collapsed": false
   },
   "outputs": [
    {
     "data": {
      "text/plain": [
       "0.99554565701559017"
      ]
     },
     "execution_count": 16,
     "metadata": {},
     "output_type": "execute_result"
    }
   ],
   "source": [
    "svm.score(X_train, y_train)"
   ]
  },
  {
   "cell_type": "code",
   "execution_count": 17,
   "metadata": {
    "collapsed": false
   },
   "outputs": [
    {
     "data": {
      "text/plain": [
       "0.94666666666666666"
      ]
     },
     "execution_count": 17,
     "metadata": {},
     "output_type": "execute_result"
    }
   ],
   "source": [
    "svm.score(X_test, y_test)"
   ]
  },
  {
   "cell_type": "markdown",
   "metadata": {},
   "source": [
    "And again\n",
    "---------"
   ]
  },
  {
   "cell_type": "code",
   "execution_count": 18,
   "metadata": {
    "collapsed": false
   },
   "outputs": [],
   "source": [
    "from sklearn.ensemble import RandomForestClassifier"
   ]
  },
  {
   "cell_type": "code",
   "execution_count": 19,
   "metadata": {
    "collapsed": false
   },
   "outputs": [],
   "source": [
    "rf = RandomForestClassifier(n_estimators=50)"
   ]
  },
  {
   "cell_type": "code",
   "execution_count": 20,
   "metadata": {
    "collapsed": false
   },
   "outputs": [
    {
     "data": {
      "text/plain": [
       "RandomForestClassifier(bootstrap=True, class_weight=None, criterion='gini',\n",
       "            max_depth=None, max_features='auto', max_leaf_nodes=None,\n",
       "            min_samples_leaf=1, min_samples_split=2,\n",
       "            min_weight_fraction_leaf=0.0, n_estimators=50, n_jobs=1,\n",
       "            oob_score=False, random_state=None, verbose=0,\n",
       "            warm_start=False)"
      ]
     },
     "execution_count": 20,
     "metadata": {},
     "output_type": "execute_result"
    }
   ],
   "source": [
    "rf.fit(X_train, y_train)"
   ]
  },
  {
   "cell_type": "code",
   "execution_count": 21,
   "metadata": {
    "collapsed": false
   },
   "outputs": [
    {
     "data": {
      "text/plain": [
       "array([6, 3, 1, 8, 1, 9, 3, 0, 0, 2, 7, 2, 8, 3, 1, 8, 0, 6, 3, 2, 2, 0, 1,\n",
       "       2, 4, 8, 4, 6, 2, 5, 1, 0, 9, 9, 9, 0, 6, 3, 2, 6, 6, 2, 3, 5, 6, 0,\n",
       "       7, 5, 0, 0, 9, 6, 5, 2, 9, 5, 6, 2, 2, 5, 0, 9, 5, 1, 7, 2, 5, 1, 6,\n",
       "       9, 2, 5, 4, 2, 2, 8, 7, 7, 8, 7, 3, 9, 7, 0, 3, 5, 4, 6, 6, 0, 4, 3,\n",
       "       1, 6, 2, 7, 7, 1, 4, 4, 6, 3, 9, 4, 6, 4, 4, 7, 2, 1, 4, 6, 9, 5, 1,\n",
       "       1, 4, 0, 9, 3, 5, 8, 1, 9, 8, 7, 8, 8, 7, 3, 6, 6, 0, 4, 6, 8, 1, 0,\n",
       "       9, 3, 9, 3, 8, 1, 8, 9, 9, 1, 5, 6, 1, 0, 6, 5, 9, 3, 5, 1, 1, 6, 3,\n",
       "       2, 5, 9, 2, 1, 9, 7, 2, 7, 3, 6, 4, 4, 2, 8, 8, 8, 1, 2, 4, 5, 3, 8,\n",
       "       3, 0, 8, 6, 3, 7, 6, 2, 8, 3, 8, 1, 9, 5, 3, 3, 1, 0, 7, 5, 4, 2, 2,\n",
       "       0, 2, 9, 0, 8, 5, 6, 7, 9, 2, 6, 4, 9, 1, 8, 5, 6, 1, 0, 1, 2, 2, 3,\n",
       "       6, 0, 0, 6, 1, 9, 5, 4, 4, 7, 8, 5, 3, 8, 5, 5, 2, 5, 1, 7, 5, 9, 2,\n",
       "       3, 1, 8, 8, 8, 5, 8, 4, 5, 3, 1, 8, 8, 4, 8, 2, 2, 4, 2, 9, 4, 1, 6,\n",
       "       2, 9, 3, 7, 9, 9, 1, 6, 4, 3, 7, 3, 8, 3, 8, 2, 5, 9, 4, 7, 7, 2, 3,\n",
       "       7, 2, 3, 1, 4, 6, 1, 3, 8, 5, 9, 5, 6, 2, 0, 6, 2, 9, 0, 8, 3, 9, 0,\n",
       "       5, 1, 1, 4, 9, 7, 4, 8, 8, 3, 2, 5, 8, 6, 2, 1, 7, 4, 5, 4, 3, 2, 1,\n",
       "       4, 6, 1, 5, 7, 5, 2, 5, 4, 3, 0, 9, 6, 6, 4, 1, 9, 4, 2, 2, 0, 4, 3,\n",
       "       2, 8, 0, 1, 4, 0, 0, 2, 4, 0, 2, 5, 5, 9, 1, 2, 4, 4, 6, 0, 8, 5, 7,\n",
       "       8, 6, 3, 5, 6, 0, 2, 8, 7, 7, 8, 0, 1, 8, 4, 1, 7, 2, 5, 3, 9, 9, 1,\n",
       "       3, 7, 1, 2, 7, 8, 5, 0, 4, 3, 6, 3, 7, 1, 6, 8, 2, 4, 6, 9, 0, 9, 8,\n",
       "       2, 7, 3, 2, 5, 1, 8, 2, 1, 6, 3, 2, 5])"
      ]
     },
     "execution_count": 21,
     "metadata": {},
     "output_type": "execute_result"
    }
   ],
   "source": [
    "rf.predict(X_test)"
   ]
  },
  {
   "cell_type": "code",
   "execution_count": 22,
   "metadata": {
    "collapsed": false
   },
   "outputs": [
    {
     "data": {
      "text/plain": [
       "0.97999999999999998"
      ]
     },
     "execution_count": 22,
     "metadata": {},
     "output_type": "execute_result"
    }
   ],
   "source": [
    "rf.score(X_test, y_test)"
   ]
  },
  {
   "cell_type": "markdown",
   "metadata": {
    "collapsed": false
   },
   "source": [
    "<h1>Classifier Comparison</h1>\n",
    "<img src=\"classifier_comparison.png\" width=100%>"
   ]
  },
  {
   "cell_type": "markdown",
   "metadata": {},
   "source": [
    "Labels Can Be Anything\n",
    "============================="
   ]
  },
  {
   "cell_type": "code",
   "execution_count": 74,
   "metadata": {
    "collapsed": false
   },
   "outputs": [],
   "source": [
    "numbers = np.array([\"zero\", \"one\", \"two\", \"three\", \"four\", \"five\", \"six\", \"seven\", \"eight\", \"nine\"])"
   ]
  },
  {
   "cell_type": "code",
   "execution_count": 75,
   "metadata": {
    "collapsed": false
   },
   "outputs": [
    {
     "data": {
      "text/plain": [
       "LinearSVC(C=0.1, class_weight=None, dual=True, fit_intercept=True,\n",
       "     intercept_scaling=1, loss='squared_hinge', max_iter=1000,\n",
       "     multi_class='ovr', penalty='l2', random_state=None, tol=0.0001,\n",
       "     verbose=0)"
      ]
     },
     "execution_count": 75,
     "metadata": {},
     "output_type": "execute_result"
    }
   ],
   "source": [
    "y_train_string = numbers[y_train]\n",
    "svm.fit(X_train, y_train_string)"
   ]
  },
  {
   "cell_type": "code",
   "execution_count": 76,
   "metadata": {
    "collapsed": false,
    "scrolled": true
   },
   "outputs": [
    {
     "data": {
      "text/plain": [
       "array(['nine', 'five', 'three', 'zero', 'nine', 'two', 'four', 'eight',\n",
       "       'five', 'five', 'five', 'three', 'zero', 'one', 'eight', 'one',\n",
       "       'two', 'five', 'two', 'five', 'six', 'two', 'two', 'four', 'nine',\n",
       "       'nine', 'seven', 'one', 'four', 'eight', 'eight', 'eight', 'six',\n",
       "       'one', 'five', 'eight', 'six', 'two', 'four', 'seven', 'eight',\n",
       "       'zero', 'seven', 'seven', 'six', 'six', 'zero', 'six', 'seven',\n",
       "       'nine', 'three', 'five', 'six', 'six', 'three', 'two', 'seven',\n",
       "       'eight', 'one', 'two', 'eight', 'six', 'three', 'one', 'three',\n",
       "       'two', 'three', 'one', 'zero', 'three', 'one', 'eight', 'six',\n",
       "       'six', 'four', 'two', 'four', 'six', 'five', 'four', 'five', 'two',\n",
       "       'one', 'eight', 'nine', 'two', 'four', 'five', 'five', 'zero',\n",
       "       'four', 'four', 'six', 'six', 'zero', 'eight', 'three', 'three',\n",
       "       'seven', 'one', 'four', 'two', 'four', 'three', 'seven', 'seven',\n",
       "       'eight', 'eight', 'four', 'nine', 'five', 'six', 'nine', 'seven',\n",
       "       'eight', 'one', 'one', 'two', 'one', 'one', 'six', 'two', 'three',\n",
       "       'five', 'six', 'nine', 'three', 'five', 'four', 'four', 'eight',\n",
       "       'three', 'zero', 'one', 'four', 'six', 'zero', 'one', 'two', 'one',\n",
       "       'nine', 'three', 'eight', 'seven', 'two', 'one', 'four', 'two',\n",
       "       'four', 'six', 'five', 'four', 'one', 'nine', 'zero', 'five',\n",
       "       'nine', 'zero', 'two', 'eight', 'three', 'three', 'one', 'three',\n",
       "       'two', 'three', 'three', 'zero', 'eight', 'four', 'three', 'five',\n",
       "       'nine', 'nine', 'zero', 'three', 'five', 'one', 'five', 'one',\n",
       "       'eight', 'six', 'zero', 'seven', 'zero', 'four', 'zero', 'one',\n",
       "       'three', 'four', 'five', 'eight', 'six', 'six', 'one', 'nine',\n",
       "       'one', 'three', 'six', 'one', 'six', 'one', 'nine', 'five', 'five',\n",
       "       'four', 'eight', 'zero', 'two', 'four', 'seven', 'two', 'six',\n",
       "       'three', 'nine', 'seven', 'seven', 'four', 'seven', 'two', 'zero',\n",
       "       'four', 'seven', 'eight', 'five', 'four', 'eight', 'seven', 'zero',\n",
       "       'zero', 'three', 'two', 'six', 'five', 'zero', 'zero', 'five',\n",
       "       'six', 'nine', 'five', 'three', 'two', 'six', 'one', 'three', 'six',\n",
       "       'four', 'nine', 'seven', 'two', 'three', 'zero', 'four', 'three',\n",
       "       'zero', 'nine', 'six', 'two', 'one', 'seven', 'six', 'eight',\n",
       "       'seven', 'one', 'nine', 'seven', 'three', 'nine', 'one', 'eight',\n",
       "       'zero', 'seven', 'zero', 'two', 'four', 'three', 'five', 'six',\n",
       "       'seven', 'one', 'four', 'one', 'six', 'three', 'nine', 'two',\n",
       "       'five', 'three', 'two', 'seven', 'five', 'eight', 'three', 'six',\n",
       "       'three', 'nine', 'three', 'zero', 'two', 'one', 'seven', 'four',\n",
       "       'nine', 'six', 'two', 'one', 'three', 'eight', 'five', 'eight',\n",
       "       'three', 'seven', 'two', 'one', 'four', 'nine', 'four', 'zero',\n",
       "       'six', 'five', 'three', 'two', 'three', 'eight', 'nine', 'seven',\n",
       "       'three', 'six', 'seven', 'eight', 'nine', 'six', 'five', 'eight',\n",
       "       'six', 'nine', 'two', 'zero', 'seven', 'nine', 'eight', 'eight',\n",
       "       'zero', 'eight', 'one', 'zero', 'seven', 'eight', 'four', 'six',\n",
       "       'four', 'six', 'six', 'four', 'zero', 'zero', 'three', 'zero',\n",
       "       'zero', 'zero', 'six', 'six', 'seven', 'eight', 'six', 'nine',\n",
       "       'two', 'seven', 'zero', 'eight', 'five', 'one', 'seven', 'two',\n",
       "       'four', 'four', 'zero', 'five', 'eight', 'five', 'three', 'zero',\n",
       "       'four', 'two', 'eight', 'three', 'nine', 'three', 'five', 'four',\n",
       "       'eight', 'eight', 'three', 'six', 'seven', 'four', 'eight', 'four',\n",
       "       'nine', 'three', 'five', 'nine', 'one', 'two', 'five', 'six',\n",
       "       'zero', 'five', 'six', 'six', 'three', 'eight', 'three', 'seven',\n",
       "       'one', 'two', 'three', 'one', 'eight', 'five', 'nine', 'six',\n",
       "       'eight', 'eight', 'eight', 'zero', 'two', 'six', 'six', 'seven',\n",
       "       'seven', 'six', 'zero', 'one', 'one', 'five', 'three', 'four',\n",
       "       'two', 'eight', 'one', 'seven', 'eight', 'zero', 'seven', 'two',\n",
       "       'two', 'seven', 'eight', 'three'], \n",
       "      dtype='<U5')"
      ]
     },
     "execution_count": 76,
     "metadata": {},
     "output_type": "execute_result"
    }
   ],
   "source": [
    "svm.predict(X_test)"
   ]
  }
 ],
 "metadata": {
  "kernelspec": {
   "display_name": "Python 3",
   "language": "python",
   "name": "python3"
  },
  "language_info": {
   "codemirror_mode": {
    "name": "ipython",
    "version": 3
   },
   "file_extension": ".py",
   "mimetype": "text/x-python",
   "name": "python",
   "nbconvert_exporter": "python",
   "pygments_lexer": "ipython3",
   "version": "3.5.1"
  }
 },
 "nbformat": 4,
 "nbformat_minor": 0
}
