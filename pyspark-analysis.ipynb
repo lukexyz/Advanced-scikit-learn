{
 "cells": [
  {
   "cell_type": "markdown",
   "metadata": {},
   "source": [
    "## 1. Steam Dataset: Data Engineering \n",
    "Website: https://steam.internet.byu.edu/\n",
    "\n",
    "* A dataset collected and analyzed for the 2016 ACM Internet Measurement Conference article by Mark O'Neill, Justin Wu, Elham Vaziripour, and Daniel Zappala"
   ]
  },
  {
   "cell_type": "code",
   "execution_count": 3,
   "metadata": {},
   "outputs": [],
   "source": [
    "import findspark\n",
    "findspark.init(\"D:\\Python\\spark-3.0.0-preview2-bin-hadoop2.7\")\n",
    "\n",
    "from pyspark import SparkContext\n",
    "from pyspark.sql import SQLContext\n",
    "import pandas as pd\n",
    "import matplotlib.pyplot as plt\n",
    "\n",
    "%matplotlib inline"
   ]
  },
  {
   "cell_type": "code",
   "execution_count": 4,
   "metadata": {},
   "outputs": [],
   "source": [
    "sc = SparkContext('local[*]')  # local cluster (cpu cores)\n",
    "sql_sc = SQLContext(sc)"
   ]
  },
  {
   "cell_type": "markdown",
   "metadata": {},
   "source": [
    "### 2.\tLoad `Player_Summaries`, `Game_Publishers`, `Game_Genres`, `Game_Developers`, `Games_1` into PySpark dataframes "
   ]
  },
  {
   "cell_type": "code",
   "execution_count": 5,
   "metadata": {},
   "outputs": [
    {
     "name": "stdout",
     "output_type": "stream",
     "text": [
      "Wall time: 14 s\n"
     ]
    }
   ],
   "source": [
    "%%time\n",
    "pla = sql_sc.read.options(header=True, inferSchema=True) \\\n",
    "            .csv('data/small/Player_Summaries.csv')\n",
    "\n",
    "pub = sql_sc.read.options(header=True, inferSchema=True) \\\n",
    "            .csv('data/small/Games_Publishers.csv')\n",
    "\n",
    "gen = sql_sc.read.options(header=True, inferSchema=True) \\\n",
    "            .csv('data/small/Games_Genres.csv')\n",
    "\n",
    "dev = sql_sc.read.options(header=True, inferSchema=True) \\\n",
    "            .csv('data/small/Games_Developers.csv')\n",
    "\n",
    "ga1 = sql_sc.read.options(header=True, inferSchema=True) \\\n",
    "            .csv('data/small/Games_1.csv')\n",
    "\n",
    "ga2 = sql_sc.read.options(header=True, inferSchema=True) \\\n",
    "            .csv('data/small/Games_2.csv')\n",
    "\n",
    "app = sql_sc.read.options(header=True, inferSchema=True) \\\n",
    "            .csv('data/small/App_ID_Info.csv')\n"
   ]
  },
  {
   "cell_type": "markdown",
   "metadata": {},
   "source": [
    "### 3.\tJoin all `Games_` tables into one dataframe\n",
    "\n",
    "* Data lists each game played per user.\n",
    "* The two tables have the same data and same users, the second `ga2` contains the game data from a follow-up (larger) crawl of the Steam network.\n",
    "* Duplicate user/game data should be filtered before aggregation\n",
    "\n",
    "\n",
    "##### UNION: `GAMES_1` and `GAMES_2` "
   ]
  },
  {
   "cell_type": "code",
   "execution_count": 6,
   "metadata": {},
   "outputs": [
    {
     "name": "stdout",
     "output_type": "stream",
     "text": [
      "80,673 People\n",
      " 3,975 Different games/apps\n",
      "\n",
      "1,828,674 Total rows\n"
     ]
    }
   ],
   "source": [
    "all_games = ga1.union(ga2)\n",
    "\n",
    "print(f\"{all_games.select('steamid').distinct().count():,} People\")\n",
    "print(f\" {all_games.select('appid').distinct().count():,} Different games/apps\")\n",
    "print(f\"\\n{all_games.count():,} Total rows\")"
   ]
  },
  {
   "cell_type": "code",
   "execution_count": 19,
   "metadata": {},
   "outputs": [
    {
     "data": {
      "text/plain": [
       "(628117, 1200557)"
      ]
     },
     "execution_count": 19,
     "metadata": {},
     "output_type": "execute_result"
    }
   ],
   "source": [
    "ga1.count(), ga2.count()"
   ]
  },
  {
   "cell_type": "code",
   "execution_count": 16,
   "metadata": {},
   "outputs": [
    {
     "data": {
      "text/plain": [
       "1200557"
      ]
     },
     "execution_count": 16,
     "metadata": {},
     "output_type": "execute_result"
    }
   ],
   "source": [
    "all_games.groupBy('steamid', 'appid').count().count()"
   ]
  },
  {
   "cell_type": "markdown",
   "metadata": {},
   "source": [
    "### 4.\tCount the number of games per `publisher` and per `genre`.\n",
    "\n",
    "* Games have multiple tagged `genres`\n",
    "* Some games have multiple `publishers` (all counted as equal)\n",
    "\n",
    "##### Top 10 Publishers by Game Count"
   ]
  },
  {
   "cell_type": "code",
   "execution_count": 51,
   "metadata": {},
   "outputs": [
    {
     "data": {
      "text/html": [
       "<div>\n",
       "<style scoped>\n",
       "    .dataframe tbody tr th:only-of-type {\n",
       "        vertical-align: middle;\n",
       "    }\n",
       "\n",
       "    .dataframe tbody tr th {\n",
       "        vertical-align: top;\n",
       "    }\n",
       "\n",
       "    .dataframe thead th {\n",
       "        text-align: right;\n",
       "    }\n",
       "</style>\n",
       "<table border=\"1\" class=\"dataframe\">\n",
       "  <thead>\n",
       "    <tr style=\"text-align: right;\">\n",
       "      <th></th>\n",
       "      <th>Publisher</th>\n",
       "      <th>count</th>\n",
       "    </tr>\n",
       "  </thead>\n",
       "  <tbody>\n",
       "    <tr>\n",
       "      <td>0</td>\n",
       "      <td>SEGA</td>\n",
       "      <td>128</td>\n",
       "    </tr>\n",
       "    <tr>\n",
       "      <td>1</td>\n",
       "      <td>KISS ltd</td>\n",
       "      <td>124</td>\n",
       "    </tr>\n",
       "    <tr>\n",
       "      <td>2</td>\n",
       "      <td>Strategy First</td>\n",
       "      <td>123</td>\n",
       "    </tr>\n",
       "    <tr>\n",
       "      <td>3</td>\n",
       "      <td>Ubisoft</td>\n",
       "      <td>115</td>\n",
       "    </tr>\n",
       "    <tr>\n",
       "      <td>4</td>\n",
       "      <td>Nordic Games</td>\n",
       "      <td>96</td>\n",
       "    </tr>\n",
       "    <tr>\n",
       "      <td>5</td>\n",
       "      <td>Night Dive Studios</td>\n",
       "      <td>93</td>\n",
       "    </tr>\n",
       "    <tr>\n",
       "      <td>6</td>\n",
       "      <td>Square Enix</td>\n",
       "      <td>75</td>\n",
       "    </tr>\n",
       "    <tr>\n",
       "      <td>7</td>\n",
       "      <td>Disney Interactive</td>\n",
       "      <td>70</td>\n",
       "    </tr>\n",
       "    <tr>\n",
       "      <td>8</td>\n",
       "      <td>1C Company</td>\n",
       "      <td>69</td>\n",
       "    </tr>\n",
       "    <tr>\n",
       "      <td>9</td>\n",
       "      <td>Black Shell Media</td>\n",
       "      <td>66</td>\n",
       "    </tr>\n",
       "  </tbody>\n",
       "</table>\n",
       "</div>"
      ],
      "text/plain": [
       "            Publisher  count\n",
       "0                SEGA    128\n",
       "1            KISS ltd    124\n",
       "2      Strategy First    123\n",
       "3             Ubisoft    115\n",
       "4        Nordic Games     96\n",
       "5  Night Dive Studios     93\n",
       "6         Square Enix     75\n",
       "7  Disney Interactive     70\n",
       "8          1C Company     69\n",
       "9   Black Shell Media     66"
      ]
     },
     "execution_count": 51,
     "metadata": {},
     "output_type": "execute_result"
    }
   ],
   "source": [
    "pub_df = app.join(pub, on='appid') \\\n",
    "            .orderBy(\"Release_Date\", ascending=False)\n",
    "\n",
    "pub_df[pub_df.Type == 'game'].groupBy(['Publisher']).count() \\\n",
    "                             .orderBy('count', ascending=False) \\\n",
    "                             .limit(10).toPandas()"
   ]
  },
  {
   "cell_type": "markdown",
   "metadata": {},
   "source": [
    "##### Top 10 Genres by Game Count"
   ]
  },
  {
   "cell_type": "code",
   "execution_count": 52,
   "metadata": {},
   "outputs": [
    {
     "data": {
      "text/html": [
       "<div>\n",
       "<style scoped>\n",
       "    .dataframe tbody tr th:only-of-type {\n",
       "        vertical-align: middle;\n",
       "    }\n",
       "\n",
       "    .dataframe tbody tr th {\n",
       "        vertical-align: top;\n",
       "    }\n",
       "\n",
       "    .dataframe thead th {\n",
       "        text-align: right;\n",
       "    }\n",
       "</style>\n",
       "<table border=\"1\" class=\"dataframe\">\n",
       "  <thead>\n",
       "    <tr style=\"text-align: right;\">\n",
       "      <th></th>\n",
       "      <th>Genre</th>\n",
       "      <th>count</th>\n",
       "    </tr>\n",
       "  </thead>\n",
       "  <tbody>\n",
       "    <tr>\n",
       "      <td>0</td>\n",
       "      <td>Indie</td>\n",
       "      <td>5317</td>\n",
       "    </tr>\n",
       "    <tr>\n",
       "      <td>1</td>\n",
       "      <td>Action</td>\n",
       "      <td>4009</td>\n",
       "    </tr>\n",
       "    <tr>\n",
       "      <td>2</td>\n",
       "      <td>Adventure</td>\n",
       "      <td>2981</td>\n",
       "    </tr>\n",
       "    <tr>\n",
       "      <td>3</td>\n",
       "      <td>Casual</td>\n",
       "      <td>2237</td>\n",
       "    </tr>\n",
       "    <tr>\n",
       "      <td>4</td>\n",
       "      <td>Strategy</td>\n",
       "      <td>1998</td>\n",
       "    </tr>\n",
       "    <tr>\n",
       "      <td>5</td>\n",
       "      <td>RPG</td>\n",
       "      <td>1588</td>\n",
       "    </tr>\n",
       "    <tr>\n",
       "      <td>6</td>\n",
       "      <td>Simulation</td>\n",
       "      <td>1418</td>\n",
       "    </tr>\n",
       "    <tr>\n",
       "      <td>7</td>\n",
       "      <td>Early Access</td>\n",
       "      <td>891</td>\n",
       "    </tr>\n",
       "    <tr>\n",
       "      <td>8</td>\n",
       "      <td>Free to Play</td>\n",
       "      <td>450</td>\n",
       "    </tr>\n",
       "    <tr>\n",
       "      <td>9</td>\n",
       "      <td>Racing</td>\n",
       "      <td>352</td>\n",
       "    </tr>\n",
       "  </tbody>\n",
       "</table>\n",
       "</div>"
      ],
      "text/plain": [
       "          Genre  count\n",
       "0         Indie   5317\n",
       "1        Action   4009\n",
       "2     Adventure   2981\n",
       "3        Casual   2237\n",
       "4      Strategy   1998\n",
       "5           RPG   1588\n",
       "6    Simulation   1418\n",
       "7  Early Access    891\n",
       "8  Free to Play    450\n",
       "9        Racing    352"
      ]
     },
     "execution_count": 52,
     "metadata": {},
     "output_type": "execute_result"
    }
   ],
   "source": [
    "gen_df = app.join(gen, on='appid') \\\n",
    "            .orderBy(\"Release_Date\", ascending=False)\n",
    "\n",
    "gen_df[gen_df.Type == 'game'].groupBy(['Genre']).count() \\\n",
    "                             .orderBy('count', ascending=False) \\\n",
    "                             .limit(10).toPandas()"
   ]
  },
  {
   "cell_type": "markdown",
   "metadata": {},
   "source": [
    "### 5.\tFind day and hour when most new accounts were `created`.\n",
    "\n",
    "(based on `Player_Summaries` table) e.g. 8pm on 14th August 2005.\n"
   ]
  },
  {
   "cell_type": "code",
   "execution_count": 53,
   "metadata": {},
   "outputs": [],
   "source": [
    "from pyspark.sql import functions as F\n",
    "\n",
    "df = pla.withColumn('dt_created',\n",
    "                    F.to_date(F.unix_timestamp('timecreated', 'yyyy-MM-dd HH:mm:ss')\n",
    "                     .cast('timestamp')))\n",
    "\n",
    "df = df.withColumn(\"dt_hour\", F.hour(F.col(\"timecreated\")))"
   ]
  },
  {
   "cell_type": "code",
   "execution_count": 55,
   "metadata": {},
   "outputs": [
    {
     "name": "stdout",
     "output_type": "stream",
     "text": [
      "Wall time: 17.5 s\n"
     ]
    },
    {
     "data": {
      "text/html": [
       "<div>\n",
       "<style scoped>\n",
       "    .dataframe tbody tr th:only-of-type {\n",
       "        vertical-align: middle;\n",
       "    }\n",
       "\n",
       "    .dataframe tbody tr th {\n",
       "        vertical-align: top;\n",
       "    }\n",
       "\n",
       "    .dataframe thead th {\n",
       "        text-align: right;\n",
       "    }\n",
       "</style>\n",
       "<table border=\"1\" class=\"dataframe\">\n",
       "  <thead>\n",
       "    <tr style=\"text-align: right;\">\n",
       "      <th></th>\n",
       "      <th>dt_created</th>\n",
       "      <th>dt_hour</th>\n",
       "      <th>count</th>\n",
       "    </tr>\n",
       "  </thead>\n",
       "  <tbody>\n",
       "    <tr>\n",
       "      <td>0</td>\n",
       "      <td>2012-12-25</td>\n",
       "      <td>10</td>\n",
       "      <td>292</td>\n",
       "    </tr>\n",
       "    <tr>\n",
       "      <td>1</td>\n",
       "      <td>2012-12-25</td>\n",
       "      <td>8</td>\n",
       "      <td>279</td>\n",
       "    </tr>\n",
       "    <tr>\n",
       "      <td>2</td>\n",
       "      <td>2012-12-25</td>\n",
       "      <td>11</td>\n",
       "      <td>230</td>\n",
       "    </tr>\n",
       "    <tr>\n",
       "      <td>3</td>\n",
       "      <td>2012-11-28</td>\n",
       "      <td>11</td>\n",
       "      <td>219</td>\n",
       "    </tr>\n",
       "    <tr>\n",
       "      <td>4</td>\n",
       "      <td>2012-11-28</td>\n",
       "      <td>10</td>\n",
       "      <td>216</td>\n",
       "    </tr>\n",
       "    <tr>\n",
       "      <td>5</td>\n",
       "      <td>2012-11-28</td>\n",
       "      <td>9</td>\n",
       "      <td>215</td>\n",
       "    </tr>\n",
       "    <tr>\n",
       "      <td>6</td>\n",
       "      <td>2012-12-25</td>\n",
       "      <td>7</td>\n",
       "      <td>208</td>\n",
       "    </tr>\n",
       "    <tr>\n",
       "      <td>7</td>\n",
       "      <td>2012-12-25</td>\n",
       "      <td>4</td>\n",
       "      <td>208</td>\n",
       "    </tr>\n",
       "    <tr>\n",
       "      <td>8</td>\n",
       "      <td>2012-11-28</td>\n",
       "      <td>8</td>\n",
       "      <td>205</td>\n",
       "    </tr>\n",
       "    <tr>\n",
       "      <td>9</td>\n",
       "      <td>2012-12-24</td>\n",
       "      <td>11</td>\n",
       "      <td>204</td>\n",
       "    </tr>\n",
       "  </tbody>\n",
       "</table>\n",
       "</div>"
      ],
      "text/plain": [
       "   dt_created  dt_hour  count\n",
       "0  2012-12-25       10    292\n",
       "1  2012-12-25        8    279\n",
       "2  2012-12-25       11    230\n",
       "3  2012-11-28       11    219\n",
       "4  2012-11-28       10    216\n",
       "5  2012-11-28        9    215\n",
       "6  2012-12-25        7    208\n",
       "7  2012-12-25        4    208\n",
       "8  2012-11-28        8    205\n",
       "9  2012-12-24       11    204"
      ]
     },
     "execution_count": 55,
     "metadata": {},
     "output_type": "execute_result"
    }
   ],
   "source": [
    "%%time\n",
    "\n",
    "dt = df.where(F.col(\"dt_created\").isNotNull()) \\\n",
    "       .groupBy(['dt_created', 'dt_hour']).count() \\\n",
    "       .orderBy('count', ascending=False).toPandas()\n",
    "\n",
    "dt.head(10)"
   ]
  },
  {
   "cell_type": "markdown",
   "metadata": {},
   "source": [
    "* The most popular time for account creation was `10am Christmas Day, 2012` 🎁"
   ]
  }
 ],
 "metadata": {
  "kernelspec": {
   "display_name": "Python 3",
   "language": "python",
   "name": "python3"
  },
  "language_info": {
   "codemirror_mode": {
    "name": "ipython",
    "version": 3
   },
   "file_extension": ".py",
   "mimetype": "text/x-python",
   "name": "python",
   "nbconvert_exporter": "python",
   "pygments_lexer": "ipython3",
   "version": "3.7.3"
  }
 },
 "nbformat": 4,
 "nbformat_minor": 2
}
