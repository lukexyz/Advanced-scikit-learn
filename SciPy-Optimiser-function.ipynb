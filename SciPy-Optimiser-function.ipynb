{
 "cells": [
  {
   "cell_type": "markdown",
   "metadata": {},
   "source": [
    "## Optimisation with SciPy\n",
    "* Objective function (cost function) and the optimiser"
   ]
  },
  {
   "cell_type": "code",
   "execution_count": 2,
   "metadata": {
    "collapsed": false
   },
   "outputs": [
    {
     "name": "stdout",
     "output_type": "stream",
     "text": [
      "     2\n",
      "2.4 x + 4.9 x + 1.2\n"
     ]
    }
   ],
   "source": [
    "# objective function\n",
    "import numpy as np\n",
    "objective = np.poly1d([2.4, 4.9, 1.2])\n",
    "print(objective)"
   ]
  },
  {
   "cell_type": "code",
   "execution_count": 24,
   "metadata": {
    "collapsed": false
   },
   "outputs": [
    {
     "name": "stdout",
     "output_type": "stream",
     "text": [
      "Optimization terminated successfully.\n",
      "         Current function value: -1.301042\n",
      "         Iterations: 20\n",
      "         Function evaluations: 40\n",
      "\n",
      "x = -1.0208\n"
     ]
    }
   ],
   "source": [
    "# minimize a function using the downhill simplex algorithm.\n",
    "import scipy.optimize as opt\n",
    "x_ = opt.fmin(objective, [3])\n",
    "print()\n",
    "print('x = {0:.5}'.format(float(x_)))"
   ]
  },
  {
   "cell_type": "code",
   "execution_count": 30,
   "metadata": {
    "collapsed": false
   },
   "outputs": [
    {
     "data": {
      "image/png": "[encoded data removed]",
      "text/plain": [
       "<matplotlib.figure.Figure at 0x10e52b7b8>"
      ]
     },
     "metadata": {},
     "output_type": "display_data"
    }
   ],
   "source": [
    "%matplotlib inline\n",
    "\n",
    "x = np.linspace(-4,2,101.)\n",
    "import matplotlib.pylab as plt\n",
    "plt.plot(x, objective(x))\n",
    "plt.plot(x_, objective(x_), 'ro')\n",
    "plt.show()"
   ]
  },
  {
   "cell_type": "code",
   "execution_count": 32,
   "metadata": {
    "collapsed": false
   },
   "outputs": [
    {
     "data": {
      "text/plain": [
       "[<matplotlib.lines.Line2D at 0x10e562dd8>]"
      ]
     },
     "execution_count": 32,
     "metadata": {},
     "output_type": "execute_result"
    },
    {
     "data": {
      "image/png": "[encoded data removed]",
      "text/plain": [
       "<matplotlib.figure.Figure at 0x10e562908>"
      ]
     },
     "metadata": {},
     "output_type": "display_data"
    }
   ],
   "source": [
    "import scipy.special as ss\n",
    "import scipy.optimize as opt\n",
    "import numpy as np\n",
    "import matplotlib.pylab as mpl\n",
    "\n",
    "x = np.linspace(2, 7, 200)\n",
    "\n",
    "# 1st order Bessel\n",
    "j1x = ss.j1(x)\n",
    "mpl.plot(x, j1x)\n",
    "\n",
    "# use scipy.optimize's more modern \"results object\" interface\n",
    "result = opt.minimize_scalar(ss.j1, method=\"bounded\", bounds=[2, 4])\n",
    "\n",
    "j1_min = ss.j1(result.x)\n",
    "mpl.plot(result.x, j1_min,'ro')"
   ]
  },
  {
   "cell_type": "markdown",
   "metadata": {},
   "source": [
    "- The gradient or hessian"
   ]
  }
 ],
 "metadata": {
  "kernelspec": {
   "display_name": "Python 3",
   "language": "python",
   "name": "python3"
  },
  "language_info": {
   "codemirror_mode": {
    "name": "ipython",
    "version": 3
   },
   "file_extension": ".py",
   "mimetype": "text/x-python",
   "name": "python",
   "nbconvert_exporter": "python",
   "pygments_lexer": "ipython3",
   "version": "3.5.1"
  }
 },
 "nbformat": 4,
 "nbformat_minor": 0
}
