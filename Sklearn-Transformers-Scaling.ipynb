{
 "cells": [
  {
   "cell_type": "markdown",
   "metadata": {},
   "source": [
    "### Scikit-learn Transformers\n",
    "Transformers can be used in preprocessing to change the representation of your data.\n",
    "\n",
    "This notebook details feature scaling for MEAN == 0 and STD == 1"
   ]
  },
  {
   "cell_type": "code",
   "execution_count": 29,
   "metadata": {
    "collapsed": false
   },
   "outputs": [
    {
     "name": "stdout",
     "output_type": "stream",
     "text": [
      "Dataset keys: dict_keys(['DESCR', 'feature_names', 'data', 'target'])\n",
      "Feature names: ['CRIM' 'ZN' 'INDUS' 'CHAS' 'NOX' 'RM' 'AGE' 'DIS' 'RAD' 'TAX' 'PTRATIO'\n",
      " 'B' 'LSTAT']\n",
      "========\n",
      "Displaying first 5 features\n",
      "Feature MEAN: [  3.6319885   12.16226913  11.21976253   0.05804749   0.55580369]\n",
      "Feature STD:  [  8.70535424  24.03135432   6.88170165   0.23383324   0.11789604]\n"
     ]
    }
   ],
   "source": [
    "import matplotlib.pyplot as plt\n",
    "import numpy as np\n",
    "%matplotlib inline\n",
    "\n",
    "from sklearn.datasets import load_boston\n",
    "boston = load_boston()\n",
    "\n",
    "from sklearn.cross_validation import train_test_split\n",
    "X_train, X_test, y_train, y_test = train_test_split(boston.data, boston.target)\n",
    "\n",
    "print('Dataset keys: {}'\n",
    "      .format(boston.keys()))\n",
    "print('Feature names: {}'\n",
    "      .format(boston.feature_names))\n",
    "print('='*8)\n",
    "print('Displaying first 5 features')\n",
    "print('Feature MEAN: {}'\n",
    "      .format(X_train.mean(axis=0)[:5]))\n",
    "print('Feature STD:  {}'\n",
    "      .format(X_train.std(axis=0)[:5]))"
   ]
  },
  {
   "cell_type": "code",
   "execution_count": 53,
   "metadata": {
    "collapsed": false,
    "scrolled": true
   },
   "outputs": [
    {
     "name": "stdout",
     "output_type": "stream",
     "text": [
      "X_train = (379, 13)\n",
      "X_scaled = (379, 13)\n",
      "========\n",
      "Feature MEAN: [ 0.  0.  0. -0. -0.]\n",
      "Feature STD:  [ 1.  1.  1.  1.  1.]\n"
     ]
    }
   ],
   "source": [
    "from sklearn.preprocessing import StandardScaler\n",
    "\n",
    "scalar = StandardScaler()\n",
    "scalar.fit(X_train)\n",
    "X_scaled = scalar.transform(X_train)\n",
    "\n",
    "print('X_train = {}'.format(X_train.shape))\n",
    "print('X_scaled = {}'.format(X_scaled.shape))\n",
    "print('='*8)\n",
    "print('Feature MEAN: {}'\n",
    "      .format(X_scaled.mean(axis=0)[:5]))\n",
    "print('Feature STD:  {}'\n",
    "      .format(X_scaled.std(axis=0)[:5]))"
   ]
  }
 ],
 "metadata": {
  "kernelspec": {
   "display_name": "Python 3",
   "language": "python",
   "name": "python3"
  },
  "language_info": {
   "codemirror_mode": {
    "name": "ipython",
    "version": 3
   },
   "file_extension": ".py",
   "mimetype": "text/x-python",
   "name": "python",
   "nbconvert_exporter": "python",
   "pygments_lexer": "ipython3",
   "version": "3.5.1"
  }
 },
 "nbformat": 4,
 "nbformat_minor": 0
}
